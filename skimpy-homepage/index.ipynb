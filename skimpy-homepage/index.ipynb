{
 "cells": [
  {
   "cell_type": "markdown",
   "metadata": {},
   "source": [
    "---\n",
    "title: \"skimpy\"\n",
    "author: \"A light weight tool for creating summary statistics from dataframes.\"\n",
    "markdown:\n",
    "    variant: markdown_github\n",
    "---"
   ]
  },
  {
   "cell_type": "markdown",
   "metadata": {},
   "source": [
    "[![PyPI](https://img.shields.io/pypi/v/skimpy.svg)](https://pypi.org/project/skimpy/)\n",
    "[![Status](https://img.shields.io/pypi/status/skimpy.svg)](https://pypi.org/project/skimpy/)\n",
    "[![Python Version](https://img.shields.io/pypi/pyversions/skimpy)](https://pypi.org/project/skimpy)\n",
    "[![License](https://img.shields.io/pypi/l/skimpy)](https://opensource.org/licenses/MIT)\n",
    "[![Read the documentation at https://github.com/aeturrell/skimpy](https://img.shields.io/readthedocs/skimpy/latest.svg?label=Read%20the%20Docs)](https://github.com/aeturrell/skimpy)\n",
    "[![Tests](https://github.com/aeturrell/skimpy/workflows/Tests/badge.svg)](https://github.com/aeturrell/skimpy/actions?workflow=Tests)\n",
    "[![Codecov](https://codecov.io/gh/aeturrell/skimpy/branch/main/graph/badge.svg)](https://codecov.io/gh/aeturrell/skimpy)\n",
    "[![Downloads](https://static.pepy.tech/badge/skimpy)](https://pepy.tech/project/skimpy)\n",
    "[![pre-commit](https://img.shields.io/badge/pre--commit-enabled-brightgreen?logo=pre-commit&logoColor=white)](https://github.com/pre-commit/pre-commit)\n",
    "[![Black](https://img.shields.io/badge/code%20style-black-000000.svg)](https://github.com/psf/black)\n",
    "[![Google Colab](https://colab.research.google.com/assets/colab-badge.svg)](https://colab.research.google.com/gist/aeturrell/7bf183c559dc1d15ab7e7aaac39ea0ed/skimpy_demo.ipynb)\n",
    "\n",
    "[![Linux](https://svgshare.com/i/Zhy.svg)](https://svgshare.com/i/Zhy.svg)\n",
    "[![macOS](https://svgshare.com/i/ZjP.svg)](https://svgshare.com/i/ZjP.svg)\n",
    "[![Windows](https://svgshare.com/i/ZhY.svg)](https://svgshare.com/i/ZhY.svg)"
   ]
  },
  {
   "cell_type": "markdown",
   "metadata": {},
   "source": [
    "**skimpy** is a light weight tool that provides\n",
    "summary statistics about variables in data frames within the console or your interactive Python window.\n",
    "Think of it as a super-charged version of `df.describe()`.\n",
    "\n",
    "## Quickstart\n",
    "\n",
    "*skim* a dataframe and produce summary statistics within the console\n",
    "using:\n",
    "\n",
    "```python\n",
    "from skimpy import skim\n",
    "\n",
    "skim(df)\n",
    "```\n",
    "\n",
    "where `df` is a dataframe.\n",
    "\n",
    "If you need to a dataset to try *skimpy* out on, you can use the\n",
    "built-in test dataframe:"
   ]
  },
  {
   "cell_type": "code",
   "execution_count": null,
   "metadata": {},
   "outputs": [],
   "source": [
    "#| output: asis\n",
    "from skimpy import skim, generate_test_data\n",
    "\n",
    "df = generate_test_data()\n",
    "skim(df)"
   ]
  },
  {
   "cell_type": "markdown",
   "metadata": {},
   "source": [
    "It is recommended that you set your datatypes before using *skimpy* (for example converting any text columns to pandas string datatype), as this will produce richer statistical summaries. However, the *skim* function will try and guess what the datatypes of your columns are."
   ]
  },
  {
   "cell_type": "markdown",
   "metadata": {},
   "source": [
    "You can find a full list of requirements in the pyproject.toml file. The\n",
    "main requirements are:"
   ]
  },
  {
   "cell_type": "code",
   "execution_count": null,
   "metadata": {},
   "outputs": [],
   "source": [
    "#| echo: false\n",
    "import toml\n",
    "config = toml.load(\"../pyproject.toml\")\n",
    "dict_main_deps = config[\"tool\"][\"poetry\"][\"dependencies\"]\n",
    "for key, value in dict_main_deps.items():\n",
    "    print(f\"{key} {value}\")"
   ]
  },
  {
   "cell_type": "markdown",
   "metadata": {},
   "source": [
    "You can try this package out right now in your browser using this\n",
    "[Google Colab notebook](https://colab.research.google.com/gist/aeturrell/7bf183c559dc1d15ab7e7aaac39ea0ed/skimpy_demo.ipynb)\n",
    "(requires a Google account). Note that the Google Colab notebook uses the latest package released on PyPI (rather than the development release)."
   ]
  },
  {
   "cell_type": "markdown",
   "metadata": {},
   "source": [
    "## Installation\n",
    "\n",
    "You can install the latest release of *skimpy* via\n",
    "[pip](https://pip.pypa.io/) from [PyPI](https://pypi.org/):\n",
    "\n",
    "```bash\n",
    "$ pip install skimpy\n",
    "```\n",
    "\n",
    "To install the development version from git, use:\n",
    "\n",
    "```bash\n",
    "$ pip install git+https://github.com/aeturrell/skimpy.git\n",
    "```\n",
    "\n",
    "For development, see the [Contributor Guide](contributing.html)."
   ]
  },
  {
   "cell_type": "markdown",
   "metadata": {},
   "source": [
    "## Usage\n",
    "\n",
    "This package is mostly designed to be used within an interactive console\n",
    "session or Jupyter notebook\n",
    "\n",
    "```python\n",
    "from skimpy import skim\n",
    "\n",
    "skim(df)\n",
    "```\n",
    "\n",
    "However, you can also use it on the command line:\n",
    "\n",
    "```bash\n",
    "$ skimpy file.csv\n",
    "```"
   ]
  },
  {
   "cell_type": "markdown",
   "metadata": {},
   "source": [
    "## Features\n",
    "\n",
    "-   Support for boolean, numeric, datetime, string, and category\n",
    "    datatypes\n",
    "-   Command line interface in addition to interactive console\n",
    "    functionality\n",
    "-   Light weight, with results printed to terminal using the\n",
    "    [rich](https://github.com/willmcgugan/rich) package.\n",
    "-   Support for different colours for different types of output\n",
    "-   Rounds numerical output to 2 significant figures\n",
    "\n",
    "*skim* accepts keyword arguments that change the colour of the top level column headers. For example, to change the colour to magenta, it's"
   ]
  },
  {
   "cell_type": "code",
   "execution_count": null,
   "metadata": {},
   "outputs": [],
   "source": [
    "skim(df, header_style=\"italic magenta\")"
   ]
  },
  {
   "cell_type": "markdown",
   "metadata": {},
   "source": [
    "## Contributing\n",
    "\n",
    "Contributions are very welcome. To learn more, see the [Contributor\n",
    "Guide](contributing.html).\n",
    "\n",
    "## License\n",
    "\n",
    "Distributed under the terms of the [MIT\n",
    "license](https://opensource.org/licenses/MIT), *skimpy* is free and open\n",
    "source software.\n",
    "\n",
    "## Issues\n",
    "\n",
    "If you encounter any problems, please [file an\n",
    "issue](https://github.com/aeturrell/skimpy/issues) along with a detailed\n",
    "description.\n",
    "\n",
    "## Credits\n",
    "\n",
    "This project was generated from\n",
    "[\\@cjolowicz](https://github.com/cjolowicz)\\'s [Hypermodern Python\n",
    "Cookiecutter](https://github.com/cjolowicz/cookiecutter-hypermodern-python)\n",
    "template.\n",
    "\n",
    "skimpy was inspired by the R package\n",
    "[skimr](https://docs.ropensci.org/skimr/articles/skimr.html) and by\n",
    "exploratory Python packages including\n",
    "[pandas_profiling](https://pandas-profiling.github.io/pandas-profiling)\n",
    "and [dataprep](https://dataprep.ai/).\n",
    "\n",
    "The package is built with [poetry](https://python-poetry.org/), while the documentation is built with [Quarto](https://quarto.org/). Tests are run with [nox](https://nox.thea.codes/en/stable/)."
   ]
  }
 ],
 "metadata": {
  "interpreter": {
   "hash": "23fa78e2daaed3a694d5aaa21a99e64d8ea1043b99eebe84cb047c946d5752cd"
  },
  "kernelspec": {
   "display_name": "Python 3.9.7 64-bit ('skimpy-UAk088Ss-py3.9': poetry)",
   "language": "python",
   "name": "python3"
  },
  "language_info": {
   "codemirror_mode": {
    "name": "ipython",
    "version": 3
   },
   "file_extension": ".py",
   "mimetype": "text/x-python",
   "name": "python",
   "nbconvert_exporter": "python",
   "pygments_lexer": "ipython3",
   "version": "3.9.7"
  },
  "orig_nbformat": 4
 },
 "nbformat": 4,
 "nbformat_minor": 2
}
